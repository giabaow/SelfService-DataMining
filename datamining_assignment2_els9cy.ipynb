{
 "cells": [
  {
   "cell_type": "code",
   "execution_count": 2,
   "metadata": {},
   "outputs": [],
   "source": [
    "import pandas as pd\n",
    "import sqlite3\n",
    "import matplotlib"
   ]
  },
  {
   "cell_type": "code",
   "execution_count": 3,
   "metadata": {},
   "outputs": [],
   "source": [
    "conn = sqlite3.connect('02_03_SSDM_Assignment_2_Zenara_subscriptions.db')\n",
    "c = conn.cursor()"
   ]
  },
  {
   "cell_type": "code",
   "execution_count": 4,
   "metadata": {},
   "outputs": [
    {
     "data": {
      "text/plain": [
       "[('StatusCodes',), ('ChurnCodes',), ('Clients',), ('Subscriptions',)]"
      ]
     },
     "execution_count": 4,
     "metadata": {},
     "output_type": "execute_result"
    }
   ],
   "source": [
    "c.execute(\"Select name from sqlite_master WHERE type = 'table';\")\n",
    "c.fetchall()"
   ]
  },
  {
   "cell_type": "code",
   "execution_count": 5,
   "metadata": {},
   "outputs": [
    {
     "name": "stdout",
     "output_type": "stream",
     "text": [
      "(40533, 13)\n"
     ]
    },
    {
     "data": {
      "text/html": [
       "<div>\n",
       "<style scoped>\n",
       "    .dataframe tbody tr th:only-of-type {\n",
       "        vertical-align: middle;\n",
       "    }\n",
       "\n",
       "    .dataframe tbody tr th {\n",
       "        vertical-align: top;\n",
       "    }\n",
       "\n",
       "    .dataframe thead th {\n",
       "        text-align: right;\n",
       "    }\n",
       "</style>\n",
       "<table border=\"1\" class=\"dataframe\">\n",
       "  <thead>\n",
       "    <tr style=\"text-align: right;\">\n",
       "      <th></th>\n",
       "      <th>SubscriptionID</th>\n",
       "      <th>STATUS_PORTFOLIO</th>\n",
       "      <th>STATUS_REASON</th>\n",
       "      <th>TECHNICAL_COMMENCEMENT_DATE</th>\n",
       "      <th>VERSION_START_DATE</th>\n",
       "      <th>PRODUCT</th>\n",
       "      <th>PRODUCT_TYPE</th>\n",
       "      <th>AGENCY</th>\n",
       "      <th>REGION</th>\n",
       "      <th>CITY</th>\n",
       "      <th>DEVICE</th>\n",
       "      <th>MONTHLY_FEE</th>\n",
       "      <th>ClientID</th>\n",
       "    </tr>\n",
       "  </thead>\n",
       "  <tbody>\n",
       "    <tr>\n",
       "      <th>0</th>\n",
       "      <td>300006922</td>\n",
       "      <td>-&gt;</td>\n",
       "      <td>w</td>\n",
       "      <td>2022-04-01 00:00:00</td>\n",
       "      <td>2022-03-11 00:00:00</td>\n",
       "      <td>13287</td>\n",
       "      <td>Old</td>\n",
       "      <td>NORTH DAKOTA</td>\n",
       "      <td>ND</td>\n",
       "      <td>None</td>\n",
       "      <td>Mobile Device</td>\n",
       "      <td>4.180840</td>\n",
       "      <td>4003084</td>\n",
       "    </tr>\n",
       "    <tr>\n",
       "      <th>1</th>\n",
       "      <td>300017127</td>\n",
       "      <td>canclltn</td>\n",
       "      <td>unpd_prm</td>\n",
       "      <td>2020-09-01 00:00:00</td>\n",
       "      <td>2022-08-04 00:00:00</td>\n",
       "      <td>13226</td>\n",
       "      <td>Old</td>\n",
       "      <td>JADRAN+</td>\n",
       "      <td>TX</td>\n",
       "      <td>None</td>\n",
       "      <td>Mob.dev.</td>\n",
       "      <td>0.015605</td>\n",
       "      <td>599399</td>\n",
       "    </tr>\n",
       "    <tr>\n",
       "      <th>2</th>\n",
       "      <td>300017135</td>\n",
       "      <td>canclltn</td>\n",
       "      <td>ovrd</td>\n",
       "      <td>2020-09-01 00:00:00</td>\n",
       "      <td>2022-08-04 00:00:00</td>\n",
       "      <td>13226</td>\n",
       "      <td>Old</td>\n",
       "      <td>JADRAN+</td>\n",
       "      <td>TX</td>\n",
       "      <td>None</td>\n",
       "      <td>Mob.dev.</td>\n",
       "      <td>0.016399</td>\n",
       "      <td>3402393</td>\n",
       "    </tr>\n",
       "    <tr>\n",
       "      <th>3</th>\n",
       "      <td>300024841</td>\n",
       "      <td>-&gt;</td>\n",
       "      <td>w</td>\n",
       "      <td>2020-02-01 00:00:00</td>\n",
       "      <td>2024-02-01 00:00:00</td>\n",
       "      <td>13226</td>\n",
       "      <td>Old</td>\n",
       "      <td>ALASKA</td>\n",
       "      <td>AK</td>\n",
       "      <td>None</td>\n",
       "      <td>mobile</td>\n",
       "      <td>2.119427</td>\n",
       "      <td>6227806</td>\n",
       "    </tr>\n",
       "    <tr>\n",
       "      <th>4</th>\n",
       "      <td>300030872</td>\n",
       "      <td>-&gt;</td>\n",
       "      <td>w</td>\n",
       "      <td>2020-07-01 00:00:00</td>\n",
       "      <td>2023-07-01 00:00:00</td>\n",
       "      <td>13226</td>\n",
       "      <td>Old</td>\n",
       "      <td>MISSOURI</td>\n",
       "      <td>MO</td>\n",
       "      <td>None</td>\n",
       "      <td>Mob.dev.</td>\n",
       "      <td>6.836562</td>\n",
       "      <td>796637</td>\n",
       "    </tr>\n",
       "    <tr>\n",
       "      <th>...</th>\n",
       "      <td>...</td>\n",
       "      <td>...</td>\n",
       "      <td>...</td>\n",
       "      <td>...</td>\n",
       "      <td>...</td>\n",
       "      <td>...</td>\n",
       "      <td>...</td>\n",
       "      <td>...</td>\n",
       "      <td>...</td>\n",
       "      <td>...</td>\n",
       "      <td>...</td>\n",
       "      <td>...</td>\n",
       "      <td>...</td>\n",
       "    </tr>\n",
       "    <tr>\n",
       "      <th>40528</th>\n",
       "      <td>322676464</td>\n",
       "      <td>-&gt;</td>\n",
       "      <td>w</td>\n",
       "      <td>2024-03-01 00:00:00</td>\n",
       "      <td>2024-02-28 00:00:00</td>\n",
       "      <td>13401</td>\n",
       "      <td>New</td>\n",
       "      <td>PREMIUM</td>\n",
       "      <td>NY</td>\n",
       "      <td>None</td>\n",
       "      <td>mobile</td>\n",
       "      <td>6.019800</td>\n",
       "      <td>6771706</td>\n",
       "    </tr>\n",
       "    <tr>\n",
       "      <th>40529</th>\n",
       "      <td>322676620</td>\n",
       "      <td>-&gt;</td>\n",
       "      <td>w</td>\n",
       "      <td>2024-03-01 00:00:00</td>\n",
       "      <td>2024-02-28 00:00:00</td>\n",
       "      <td>13401</td>\n",
       "      <td>New</td>\n",
       "      <td>ARIZONA</td>\n",
       "      <td>AZ</td>\n",
       "      <td>None</td>\n",
       "      <td>Telev</td>\n",
       "      <td>4.745482</td>\n",
       "      <td>4717149</td>\n",
       "    </tr>\n",
       "    <tr>\n",
       "      <th>40530</th>\n",
       "      <td>322677131</td>\n",
       "      <td>-&gt;</td>\n",
       "      <td>w</td>\n",
       "      <td>2024-03-01 00:00:00</td>\n",
       "      <td>2024-02-28 00:00:00</td>\n",
       "      <td>13401</td>\n",
       "      <td>New</td>\n",
       "      <td>ALASKA</td>\n",
       "      <td>AK</td>\n",
       "      <td>None</td>\n",
       "      <td>Browser</td>\n",
       "      <td>4.743958</td>\n",
       "      <td>123928</td>\n",
       "    </tr>\n",
       "    <tr>\n",
       "      <th>40531</th>\n",
       "      <td>322677389</td>\n",
       "      <td>-&gt;</td>\n",
       "      <td>w</td>\n",
       "      <td>2024-03-01 00:00:00</td>\n",
       "      <td>2024-02-28 00:00:00</td>\n",
       "      <td>13401</td>\n",
       "      <td>New</td>\n",
       "      <td>ALASKA</td>\n",
       "      <td>AK</td>\n",
       "      <td>None</td>\n",
       "      <td>browser</td>\n",
       "      <td>4.720996</td>\n",
       "      <td>4939771</td>\n",
       "    </tr>\n",
       "    <tr>\n",
       "      <th>40532</th>\n",
       "      <td>515243624</td>\n",
       "      <td>-&gt;</td>\n",
       "      <td>w</td>\n",
       "      <td>2020-02-01 00:00:00</td>\n",
       "      <td>2024-02-01 00:00:00</td>\n",
       "      <td>13226</td>\n",
       "      <td>Old</td>\n",
       "      <td>ONLINE</td>\n",
       "      <td>None</td>\n",
       "      <td>Fargo</td>\n",
       "      <td>mobile</td>\n",
       "      <td>4.820310</td>\n",
       "      <td>1161161</td>\n",
       "    </tr>\n",
       "  </tbody>\n",
       "</table>\n",
       "<p>40533 rows × 13 columns</p>\n",
       "</div>"
      ],
      "text/plain": [
       "       SubscriptionID STATUS_PORTFOLIO STATUS_REASON  \\\n",
       "0           300006922               ->             w   \n",
       "1           300017127         canclltn      unpd_prm   \n",
       "2           300017135         canclltn          ovrd   \n",
       "3           300024841               ->             w   \n",
       "4           300030872               ->             w   \n",
       "...               ...              ...           ...   \n",
       "40528       322676464               ->             w   \n",
       "40529       322676620               ->             w   \n",
       "40530       322677131               ->             w   \n",
       "40531       322677389               ->             w   \n",
       "40532       515243624               ->             w   \n",
       "\n",
       "      TECHNICAL_COMMENCEMENT_DATE   VERSION_START_DATE  PRODUCT PRODUCT_TYPE  \\\n",
       "0             2022-04-01 00:00:00  2022-03-11 00:00:00    13287          Old   \n",
       "1             2020-09-01 00:00:00  2022-08-04 00:00:00    13226          Old   \n",
       "2             2020-09-01 00:00:00  2022-08-04 00:00:00    13226          Old   \n",
       "3             2020-02-01 00:00:00  2024-02-01 00:00:00    13226          Old   \n",
       "4             2020-07-01 00:00:00  2023-07-01 00:00:00    13226          Old   \n",
       "...                           ...                  ...      ...          ...   \n",
       "40528         2024-03-01 00:00:00  2024-02-28 00:00:00    13401          New   \n",
       "40529         2024-03-01 00:00:00  2024-02-28 00:00:00    13401          New   \n",
       "40530         2024-03-01 00:00:00  2024-02-28 00:00:00    13401          New   \n",
       "40531         2024-03-01 00:00:00  2024-02-28 00:00:00    13401          New   \n",
       "40532         2020-02-01 00:00:00  2024-02-01 00:00:00    13226          Old   \n",
       "\n",
       "             AGENCY REGION   CITY         DEVICE  MONTHLY_FEE  ClientID  \n",
       "0      NORTH DAKOTA     ND   None  Mobile Device     4.180840   4003084  \n",
       "1           JADRAN+     TX   None       Mob.dev.     0.015605    599399  \n",
       "2           JADRAN+     TX   None       Mob.dev.     0.016399   3402393  \n",
       "3            ALASKA     AK   None         mobile     2.119427   6227806  \n",
       "4          MISSOURI     MO   None       Mob.dev.     6.836562    796637  \n",
       "...             ...    ...    ...            ...          ...       ...  \n",
       "40528       PREMIUM     NY   None         mobile     6.019800   6771706  \n",
       "40529       ARIZONA     AZ   None          Telev     4.745482   4717149  \n",
       "40530        ALASKA     AK   None        Browser     4.743958    123928  \n",
       "40531        ALASKA     AK   None        browser     4.720996   4939771  \n",
       "40532        ONLINE   None  Fargo         mobile     4.820310   1161161  \n",
       "\n",
       "[40533 rows x 13 columns]"
      ]
     },
     "execution_count": 5,
     "metadata": {},
     "output_type": "execute_result"
    }
   ],
   "source": [
    "df_sub = pd.read_sql_query (\"SELECT * FROM Subscriptions\", conn)\n",
    "print(df_sub.shape)\n",
    "# df_sub.head(5)\n",
    "df_sub"
   ]
  },
  {
   "cell_type": "code",
   "execution_count": 6,
   "metadata": {},
   "outputs": [
    {
     "name": "stdout",
     "output_type": "stream",
     "text": [
      "(4, 2)\n"
     ]
    },
    {
     "data": {
      "text/html": [
       "<div>\n",
       "<style scoped>\n",
       "    .dataframe tbody tr th:only-of-type {\n",
       "        vertical-align: middle;\n",
       "    }\n",
       "\n",
       "    .dataframe tbody tr th {\n",
       "        vertical-align: top;\n",
       "    }\n",
       "\n",
       "    .dataframe thead th {\n",
       "        text-align: right;\n",
       "    }\n",
       "</style>\n",
       "<table border=\"1\" class=\"dataframe\">\n",
       "  <thead>\n",
       "    <tr style=\"text-align: right;\">\n",
       "      <th></th>\n",
       "      <th>STATUS_PORTFOLIO</th>\n",
       "      <th>Description</th>\n",
       "    </tr>\n",
       "  </thead>\n",
       "  <tbody>\n",
       "    <tr>\n",
       "      <th>0</th>\n",
       "      <td>-&gt;</td>\n",
       "      <td>Subscriber</td>\n",
       "    </tr>\n",
       "    <tr>\n",
       "      <th>1</th>\n",
       "      <td>srrndr</td>\n",
       "      <td>Cancelled</td>\n",
       "    </tr>\n",
       "    <tr>\n",
       "      <th>2</th>\n",
       "      <td>canclltn</td>\n",
       "      <td>Cancelled</td>\n",
       "    </tr>\n",
       "    <tr>\n",
       "      <th>3</th>\n",
       "      <td>susP</td>\n",
       "      <td>Suspended</td>\n",
       "    </tr>\n",
       "  </tbody>\n",
       "</table>\n",
       "</div>"
      ],
      "text/plain": [
       "  STATUS_PORTFOLIO Description\n",
       "0               ->  Subscriber\n",
       "1           srrndr   Cancelled\n",
       "2         canclltn   Cancelled\n",
       "3             susP   Suspended"
      ]
     },
     "execution_count": 6,
     "metadata": {},
     "output_type": "execute_result"
    }
   ],
   "source": [
    "df_statuscode = pd.read_sql_query (\"SELECT * FROM StatusCodes\", conn)\n",
    "print(df_statuscode.shape)\n",
    "df_statuscode.head(5)"
   ]
  },
  {
   "cell_type": "code",
   "execution_count": 7,
   "metadata": {},
   "outputs": [
    {
     "name": "stdout",
     "output_type": "stream",
     "text": [
      "(11, 2)\n"
     ]
    },
    {
     "data": {
      "text/html": [
       "<div>\n",
       "<style scoped>\n",
       "    .dataframe tbody tr th:only-of-type {\n",
       "        vertical-align: middle;\n",
       "    }\n",
       "\n",
       "    .dataframe tbody tr th {\n",
       "        vertical-align: top;\n",
       "    }\n",
       "\n",
       "    .dataframe thead th {\n",
       "        text-align: right;\n",
       "    }\n",
       "</style>\n",
       "<table border=\"1\" class=\"dataframe\">\n",
       "  <thead>\n",
       "    <tr style=\"text-align: right;\">\n",
       "      <th></th>\n",
       "      <th>STATUS_REASON</th>\n",
       "      <th>Description</th>\n",
       "    </tr>\n",
       "  </thead>\n",
       "  <tbody>\n",
       "    <tr>\n",
       "      <th>0</th>\n",
       "      <td>w</td>\n",
       "      <td>Cancelled</td>\n",
       "    </tr>\n",
       "    <tr>\n",
       "      <th>1</th>\n",
       "      <td>ovrd</td>\n",
       "      <td>Overdue fee</td>\n",
       "    </tr>\n",
       "    <tr>\n",
       "      <th>2</th>\n",
       "      <td>srrnd_cnclltn_o</td>\n",
       "      <td>Cancelled</td>\n",
       "    </tr>\n",
       "    <tr>\n",
       "      <th>3</th>\n",
       "      <td>deseased</td>\n",
       "      <td>Deceased Client</td>\n",
       "    </tr>\n",
       "    <tr>\n",
       "      <th>4</th>\n",
       "      <td>strnd_cnclltn_o</td>\n",
       "      <td>Cancelled</td>\n",
       "    </tr>\n",
       "  </tbody>\n",
       "</table>\n",
       "</div>"
      ],
      "text/plain": [
       "     STATUS_REASON      Description\n",
       "0                w        Cancelled\n",
       "1             ovrd      Overdue fee\n",
       "2  srrnd_cnclltn_o        Cancelled\n",
       "3         deseased  Deceased Client\n",
       "4  strnd_cnclltn_o        Cancelled"
      ]
     },
     "execution_count": 7,
     "metadata": {},
     "output_type": "execute_result"
    }
   ],
   "source": [
    "df_churncodes = pd.read_sql_query (\"SELECT * FROM ChurnCodes\", conn)\n",
    "print(df_churncodes.shape)\n",
    "df_churncodes.head(5)"
   ]
  },
  {
   "cell_type": "code",
   "execution_count": 8,
   "metadata": {},
   "outputs": [
    {
     "name": "stdout",
     "output_type": "stream",
     "text": [
      "(44381, 3)\n"
     ]
    },
    {
     "data": {
      "text/html": [
       "<div>\n",
       "<style scoped>\n",
       "    .dataframe tbody tr th:only-of-type {\n",
       "        vertical-align: middle;\n",
       "    }\n",
       "\n",
       "    .dataframe tbody tr th {\n",
       "        vertical-align: top;\n",
       "    }\n",
       "\n",
       "    .dataframe thead th {\n",
       "        text-align: right;\n",
       "    }\n",
       "</style>\n",
       "<table border=\"1\" class=\"dataframe\">\n",
       "  <thead>\n",
       "    <tr style=\"text-align: right;\">\n",
       "      <th></th>\n",
       "      <th>ClientID</th>\n",
       "      <th>BIRTH_DATE</th>\n",
       "      <th>Sex</th>\n",
       "    </tr>\n",
       "  </thead>\n",
       "  <tbody>\n",
       "    <tr>\n",
       "      <th>0</th>\n",
       "      <td>420</td>\n",
       "      <td>10- VIII.- 36</td>\n",
       "      <td>Male</td>\n",
       "    </tr>\n",
       "    <tr>\n",
       "      <th>1</th>\n",
       "      <td>927</td>\n",
       "      <td>2- I.- 53</td>\n",
       "      <td>Female</td>\n",
       "    </tr>\n",
       "    <tr>\n",
       "      <th>2</th>\n",
       "      <td>1399</td>\n",
       "      <td>1993-02-16 00:00:00</td>\n",
       "      <td>Male</td>\n",
       "    </tr>\n",
       "    <tr>\n",
       "      <th>3</th>\n",
       "      <td>1505</td>\n",
       "      <td>9- XI.- 61</td>\n",
       "      <td>Male</td>\n",
       "    </tr>\n",
       "    <tr>\n",
       "      <th>4</th>\n",
       "      <td>1730</td>\n",
       "      <td>1980-10-22 00:00:00</td>\n",
       "      <td>Male</td>\n",
       "    </tr>\n",
       "  </tbody>\n",
       "</table>\n",
       "</div>"
      ],
      "text/plain": [
       "   ClientID           BIRTH_DATE     Sex\n",
       "0       420        10- VIII.- 36    Male\n",
       "1       927            2- I.- 53  Female\n",
       "2      1399  1993-02-16 00:00:00    Male\n",
       "3      1505           9- XI.- 61    Male\n",
       "4      1730  1980-10-22 00:00:00    Male"
      ]
     },
     "execution_count": 8,
     "metadata": {},
     "output_type": "execute_result"
    }
   ],
   "source": [
    "df_clients = pd.read_sql_query (\"SELECT * FROM Clients\", conn)\n",
    "print(df_clients.shape)\n",
    "df_clients.head(5)"
   ]
  },
  {
   "cell_type": "code",
   "execution_count": 9,
   "metadata": {},
   "outputs": [],
   "source": [
    "# conn.close()"
   ]
  },
  {
   "cell_type": "markdown",
   "metadata": {},
   "source": [
    "Task 2.1 a)"
   ]
  },
  {
   "cell_type": "code",
   "execution_count": 10,
   "metadata": {},
   "outputs": [
    {
     "name": "stdout",
     "output_type": "stream",
     "text": [
      "SubscriptionID                   int64\n",
      "STATUS_PORTFOLIO                object\n",
      "STATUS_REASON                   object\n",
      "TECHNICAL_COMMENCEMENT_DATE     object\n",
      "VERSION_START_DATE              object\n",
      "PRODUCT                          int64\n",
      "PRODUCT_TYPE                    object\n",
      "AGENCY                          object\n",
      "REGION                          object\n",
      "CITY                            object\n",
      "DEVICE                          object\n",
      "MONTHLY_FEE                    float64\n",
      "ClientID                         int64\n",
      "dtype: object\n"
     ]
    }
   ],
   "source": [
    "print(df_sub.dtypes)"
   ]
  },
  {
   "cell_type": "markdown",
   "metadata": {},
   "source": [
    "Task 2.1 b)"
   ]
  },
  {
   "cell_type": "code",
   "execution_count": 11,
   "metadata": {},
   "outputs": [
    {
     "data": {
      "text/plain": [
       "<Axes: xlabel='PRODUCT'>"
      ]
     },
     "execution_count": 11,
     "metadata": {},
     "output_type": "execute_result"
    },
    {
     "data": {
      "image/png": "[encoded data removed]",
      "text/plain": [
       "<Figure size 640x480 with 1 Axes>"
      ]
     },
     "metadata": {},
     "output_type": "display_data"
    }
   ],
   "source": [
    "df_sub['PRODUCT'].value_counts().plot(kind= 'bar')"
   ]
  },
  {
   "cell_type": "code",
   "execution_count": 12,
   "metadata": {},
   "outputs": [
    {
     "data": {
      "text/plain": [
       "<Axes: >"
      ]
     },
     "execution_count": 12,
     "metadata": {},
     "output_type": "execute_result"
    },
    {
     "data": {
      "image/png": "[encoded data removed]",
      "text/plain": [
       "<Figure size 640x480 with 1 Axes>"
      ]
     },
     "metadata": {},
     "output_type": "display_data"
    }
   ],
   "source": [
    "df_sub['MONTHLY_FEE'].hist(bins=100)"
   ]
  },
  {
   "cell_type": "code",
   "execution_count": 13,
   "metadata": {},
   "outputs": [
    {
     "data": {
      "text/plain": [
       "BIRTH_DATE\n",
       "28- II.- 76            13\n",
       "1988-04-02 00:00:00    11\n",
       "1985-11-21 00:00:00    11\n",
       "1984-11-08 00:00:00    10\n",
       "14- XI.- 62            10\n",
       "                       ..\n",
       "1997-02-25 00:00:00     1\n",
       "13- VIII.- 57           1\n",
       "17- V.- 54              1\n",
       "10- IX.- 74             1\n",
       "26- VI.- 51             1\n",
       "Name: count, Length: 18413, dtype: int64"
      ]
     },
     "execution_count": 13,
     "metadata": {},
     "output_type": "execute_result"
    }
   ],
   "source": [
    "df_clients['BIRTH_DATE'].value_counts()"
   ]
  },
  {
   "cell_type": "code",
   "execution_count": 14,
   "metadata": {},
   "outputs": [
    {
     "name": "stdout",
     "output_type": "stream",
     "text": [
      "TECHNICAL_COMMENCEMENT_DATE\n",
      "2021-12-01    1884\n",
      "2021-04-01    1582\n",
      "2021-01-01    1486\n",
      "2022-11-01    1482\n",
      "2020-11-01    1447\n",
      "2021-07-01    1339\n",
      "2022-05-01    1287\n",
      "2021-11-01    1286\n",
      "2022-10-01    1264\n",
      "2020-12-01    1238\n",
      "2022-04-01    1220\n",
      "2023-01-01    1207\n",
      "2022-12-01    1199\n",
      "2020-10-01    1141\n",
      "2023-11-01    1079\n",
      "2020-09-01    1015\n",
      "2021-08-01     986\n",
      "2023-04-01     947\n",
      "2021-03-01     812\n",
      "2023-12-01     789\n",
      "2023-06-01     748\n",
      "2020-08-01     739\n",
      "2022-07-01     733\n",
      "2022-03-01     727\n",
      "2023-07-01     689\n",
      "2020-07-01     674\n",
      "2023-10-01     663\n",
      "2024-01-01     638\n",
      "2022-08-01     603\n",
      "2021-06-01     592\n",
      "2022-01-01     589\n",
      "2021-10-01     586\n",
      "2021-05-01     585\n",
      "2021-09-01     566\n",
      "2020-05-01     560\n",
      "2020-06-01     545\n",
      "2022-09-01     534\n",
      "2022-06-01     522\n",
      "2023-03-01     517\n",
      "2024-02-01     515\n",
      "2024-03-01     496\n",
      "2021-02-01     492\n",
      "2023-08-01     488\n",
      "2022-02-01     462\n",
      "2023-05-01     454\n",
      "2023-09-01     328\n",
      "2023-02-01     315\n",
      "2020-02-01     281\n",
      "2020-04-01     135\n",
      "2020-03-01      67\n",
      "Name: count, dtype: int64\n",
      "2024-03-01 00:00:00\n",
      "2020-02-01 00:00:00\n"
     ]
    }
   ],
   "source": [
    "df_sub['TECHNICAL_COMMENCEMENT_DATE'] = pd.to_datetime(df_sub['TECHNICAL_COMMENCEMENT_DATE'])\n",
    "print(df_sub['TECHNICAL_COMMENCEMENT_DATE'].value_counts())\n",
    "print(df_sub['TECHNICAL_COMMENCEMENT_DATE'].max())\n",
    "print(df_sub['TECHNICAL_COMMENCEMENT_DATE'].min())"
   ]
  },
  {
   "cell_type": "markdown",
   "metadata": {},
   "source": [
    "After examing these fields, the first possible explanation for the increase in subscription cancellations is that Zerena offers a large number of products, but the efficiency applied to each product is uneven. This problem can be seen from the difference in number of users between products. The second possible explaination might be the problem with inappropriate target audience. We can see that the age range of major clients is between 36 and 62 years old (born between 1962 and 1988). However, the primary target audience for a music streaming service is younger, making Zerena Connect+ more suitable for them. "
   ]
  },
  {
   "cell_type": "markdown",
   "metadata": {},
   "source": [
    "Task 2.2"
   ]
  },
  {
   "cell_type": "code",
   "execution_count": 15,
   "metadata": {},
   "outputs": [
    {
     "data": {
      "text/html": [
       "<div>\n",
       "<style scoped>\n",
       "    .dataframe tbody tr th:only-of-type {\n",
       "        vertical-align: middle;\n",
       "    }\n",
       "\n",
       "    .dataframe tbody tr th {\n",
       "        vertical-align: top;\n",
       "    }\n",
       "\n",
       "    .dataframe thead th {\n",
       "        text-align: right;\n",
       "    }\n",
       "</style>\n",
       "<table border=\"1\" class=\"dataframe\">\n",
       "  <thead>\n",
       "    <tr style=\"text-align: right;\">\n",
       "      <th></th>\n",
       "      <th>ClientID</th>\n",
       "      <th>BIRTH_DATE</th>\n",
       "      <th>Sex</th>\n",
       "    </tr>\n",
       "  </thead>\n",
       "  <tbody>\n",
       "    <tr>\n",
       "      <th>0</th>\n",
       "      <td>420</td>\n",
       "      <td>10- VIII.- 36</td>\n",
       "      <td>Male</td>\n",
       "    </tr>\n",
       "    <tr>\n",
       "      <th>1</th>\n",
       "      <td>927</td>\n",
       "      <td>2- I.- 53</td>\n",
       "      <td>Female</td>\n",
       "    </tr>\n",
       "    <tr>\n",
       "      <th>2</th>\n",
       "      <td>1399</td>\n",
       "      <td>1993-02-16 00:00:00</td>\n",
       "      <td>Male</td>\n",
       "    </tr>\n",
       "    <tr>\n",
       "      <th>3</th>\n",
       "      <td>1505</td>\n",
       "      <td>9- XI.- 61</td>\n",
       "      <td>Male</td>\n",
       "    </tr>\n",
       "    <tr>\n",
       "      <th>4</th>\n",
       "      <td>1730</td>\n",
       "      <td>1980-10-22 00:00:00</td>\n",
       "      <td>Male</td>\n",
       "    </tr>\n",
       "    <tr>\n",
       "      <th>...</th>\n",
       "      <td>...</td>\n",
       "      <td>...</td>\n",
       "      <td>...</td>\n",
       "    </tr>\n",
       "    <tr>\n",
       "      <th>44376</th>\n",
       "      <td>6999271</td>\n",
       "      <td>21- VII.- 74</td>\n",
       "      <td>Female</td>\n",
       "    </tr>\n",
       "    <tr>\n",
       "      <th>44377</th>\n",
       "      <td>6999357</td>\n",
       "      <td>11- VIII.- 76</td>\n",
       "      <td>Male</td>\n",
       "    </tr>\n",
       "    <tr>\n",
       "      <th>44378</th>\n",
       "      <td>6999709</td>\n",
       "      <td>1997-12-19 00:00:00</td>\n",
       "      <td>Male</td>\n",
       "    </tr>\n",
       "    <tr>\n",
       "      <th>44379</th>\n",
       "      <td>6999830</td>\n",
       "      <td>24- IX.- 79</td>\n",
       "      <td>Female</td>\n",
       "    </tr>\n",
       "    <tr>\n",
       "      <th>44380</th>\n",
       "      <td>6999961</td>\n",
       "      <td>26- XI.- 73</td>\n",
       "      <td>Male</td>\n",
       "    </tr>\n",
       "  </tbody>\n",
       "</table>\n",
       "<p>44381 rows × 3 columns</p>\n",
       "</div>"
      ],
      "text/plain": [
       "       ClientID           BIRTH_DATE     Sex\n",
       "0           420        10- VIII.- 36    Male\n",
       "1           927            2- I.- 53  Female\n",
       "2          1399  1993-02-16 00:00:00    Male\n",
       "3          1505           9- XI.- 61    Male\n",
       "4          1730  1980-10-22 00:00:00    Male\n",
       "...         ...                  ...     ...\n",
       "44376   6999271         21- VII.- 74  Female\n",
       "44377   6999357        11- VIII.- 76    Male\n",
       "44378   6999709  1997-12-19 00:00:00    Male\n",
       "44379   6999830          24- IX.- 79  Female\n",
       "44380   6999961          26- XI.- 73    Male\n",
       "\n",
       "[44381 rows x 3 columns]"
      ]
     },
     "execution_count": 15,
     "metadata": {},
     "output_type": "execute_result"
    }
   ],
   "source": [
    "df_clients"
   ]
  },
  {
   "cell_type": "code",
   "execution_count": null,
   "metadata": {},
   "outputs": [],
   "source": [
    "def format_date(date):\n",
    "\n",
    "    if pd.isna(date):  \n",
    "        return None\n",
    "    \n",
    "    if isinstance(date, str):  \n",
    "        date_parts = date.split('-')\n",
    "\n",
    "        if len(date_parts) != 3: \n",
    "            # print(f\"Error: Invalid date format - {date}\")\n",
    "            return None  \n",
    "        \n",
    "        #day\n",
    "        if int(date_parts[0]) >= 10:\n",
    "            day = date_parts[0].strip()\n",
    "        else:\n",
    "            day = '0'+ date_parts[0].strip()\n",
    "        \n",
    "        #year\n",
    "        year = '19' + date_parts[2].strip()\n",
    "\n",
    "        #month\n",
    "        month = date_parts[1].strip().replace('.', '') \n",
    "        roman_to_month = {\n",
    "            \"I\": \"01\", \"II\": \"02\", \"III\": \"03\", \"IV\": \"04\", \"V\": \"05\", \"VI\": \"06\",\n",
    "            \"VII\": \"07\", \"VIII\": \"08\", \"IX\": \"09\", \"X\": \"10\", \"XI\": \"11\", \"XII\": \"12\"\n",
    "        }\n",
    "        if month in roman_to_month:\n",
    "            month = roman_to_month[month]\n",
    "        else:\n",
    "            print(f\"Error: Invalid month - {month}\")\n",
    "            return None \n",
    "        \n",
    "        return f\"{year}-{month}-{day}\"\n",
    "    else:\n",
    "        return None\n"
   ]
  },
  {
   "cell_type": "code",
   "execution_count": 17,
   "metadata": {},
   "outputs": [
    {
     "name": "stderr",
     "output_type": "stream",
     "text": [
      "/var/folders/l6/hf84dcw12ns310x798rtj0gc0000gn/T/ipykernel_17327/2479848821.py:4: UserWarning: Could not infer format, so each element will be parsed individually, falling back to `dateutil`. To ensure parsing is consistent and as-expected, please specify a format.\n",
      "  df_clients['BIRTH_DATE'] = pd.to_datetime(df_clients['BIRTH_DATE'], errors='coerce')\n"
     ]
    },
    {
     "name": "stdout",
     "output_type": "stream",
     "text": [
      "       ClientID BIRTH_DATE     Sex\n",
      "0           420 1936-08-10    Male\n",
      "1           927 1953-01-02  Female\n",
      "2          1399 1993-02-16    Male\n",
      "3          1505 1961-11-09    Male\n",
      "4          1730 1980-10-22    Male\n",
      "...         ...        ...     ...\n",
      "44376   6999271 1974-07-21  Female\n",
      "44377   6999357 1976-08-11    Male\n",
      "44378   6999709 1997-12-19    Male\n",
      "44379   6999830 1979-09-24  Female\n",
      "44380   6999961 1973-11-26    Male\n",
      "\n",
      "[44381 rows x 3 columns]\n"
     ]
    },
    {
     "data": {
      "text/plain": [
       "ClientID               int64\n",
       "BIRTH_DATE    datetime64[ns]\n",
       "Sex                   object\n",
       "dtype: object"
      ]
     },
     "execution_count": 17,
     "metadata": {},
     "output_type": "execute_result"
    }
   ],
   "source": [
    "df_clients_temp = df_clients.copy(deep=True)\n",
    "# print(df_clients_temp)\n",
    "\n",
    "df_clients['BIRTH_DATE'] = pd.to_datetime(df_clients['BIRTH_DATE'], errors='coerce')\n",
    "# print(df_clients_temp)\n",
    "\n",
    "\n",
    "null_index = df_clients[df_clients['BIRTH_DATE'].isna()].index.tolist()\n",
    "# print(df_clients_temp)\n",
    "# print(null_index)\n",
    "\n",
    "# print(df_clients_temp.loc[1, 'BIRTH_DATE'])\n",
    "\n",
    "df_clients_temp.loc[null_index, 'BIRTH_DATE'] = df_clients_temp.loc[null_index, 'BIRTH_DATE'].apply(format_date)\n",
    "\n",
    "df_clients_temp.loc[null_index, 'BIRTH_DATE'] = pd.to_datetime(df_clients_temp.loc[null_index, 'BIRTH_DATE'])\n",
    "# print(df_clients_temp)\n",
    "\n",
    "# # Merge the results back to the original dataframe\n",
    "df_clients.loc[null_index, 'BIRTH_DATE'] = df_clients_temp.loc[null_index, 'BIRTH_DATE']\n",
    "\n",
    "print(df_clients)\n",
    "df_clients.dtypes\n",
    "\n",
    "\n",
    "\n",
    "# print(df_clients.iloc[df_clients['BIRTH_DATE'].isna(), 'BIRTH_DATE'])\n",
    "# Apply format_date() only to invalid date values and update df_clients directly\n",
    "# df_clients.iloc[df_clients['BIRTH_DATE'].isna(), 'BIRTH_DATE'] = (\n",
    "#     df_clients_temp.loc[df_clients['BIRTH_DATE'].isna(), 'BIRTH_DATE']\n",
    "#     .astype(str)\n",
    "#     .apply(format_date)\n",
    "# )\n",
    "\n",
    "\n",
    "# Convert newly formatted values back to datetime\n",
    "# df_clients['BIRTH_DATE'] = pd.to_datetime(df_clients['BIRTH_DATE'], errors='coerce')"
   ]
  },
  {
   "cell_type": "code",
   "execution_count": 18,
   "metadata": {},
   "outputs": [
    {
     "name": "stdout",
     "output_type": "stream",
     "text": [
      "       ClientID BIRTH_DATE     Sex        AGE\n",
      "0           420 1936-08-10    Male  88.558522\n",
      "1           927 1953-01-02  Female  72.161533\n",
      "2          1399 1993-02-16    Male  32.038330\n",
      "3          1505 1961-11-09    Male  63.310062\n",
      "4          1730 1980-10-22    Male  44.358658\n",
      "...         ...        ...     ...        ...\n",
      "44376   6999271 1974-07-21  Female  50.614648\n",
      "44377   6999357 1976-08-11    Male  48.555784\n",
      "44378   6999709 1997-12-19    Male  27.200548\n",
      "44379   6999830 1979-09-24  Female  45.437372\n",
      "44380   6999961 1973-11-26    Male  51.263518\n",
      "\n",
      "[44381 rows x 4 columns]\n"
     ]
    }
   ],
   "source": [
    "from datetime import datetime\n",
    "current_date = pd.to_datetime(datetime.today().date())\n",
    "df_clients['AGE'] = (current_date - df_clients['BIRTH_DATE']).dt.days/365.25\n",
    "print(df_clients)"
   ]
  },
  {
   "cell_type": "code",
   "execution_count": 19,
   "metadata": {},
   "outputs": [],
   "source": [
    "# def format_date(date):\n",
    "#     if pd.isna(date):\n",
    "#         return None\n",
    "#     date = date.split('-')\n",
    "\n",
    "#     if len(date) != 3:\n",
    "#         print(date)  # Ensure the split has exactly 3 parts\n",
    "#         return None\n",
    "\n",
    "#     day = date[0]\n",
    "#     year = '19' + date[2].strip()\n",
    "#     month = date[1].strip().replace('.','')\n",
    "#     roman_to_month = {\n",
    "#     \"I\": \"01\", \"II\": \"02\", \"III\": \"03\", \"IV\": \"04\", \"V\": \"05\", \"VI\": \"06\",\n",
    "#     \"VII\": \"07\", \"VIII\": \"08\", \"IX\": \"09\", \"X\": \"10\", \"XI\": \"11\", \"XII\": \"12\"}\n",
    "#     if month in roman_to_month:\n",
    "#         month = roman_to_month[month]\n",
    "#     else:\n",
    "#         print('error')\n",
    "#     return year + '-' + month + '-' + day\n"
   ]
  },
  {
   "cell_type": "code",
   "execution_count": 20,
   "metadata": {},
   "outputs": [],
   "source": [
    "# df_clients_temp = df_clients.copy()\n",
    "# df_clients['BIRTH_DATE'] = pd.to_datetime(df_clients['BIRTH_DATE'],errors='coerce')\n",
    "# df_clients.loc[df_clients['BIRTH_DATE'].isna(), 'BIRTH_DATE'] = (\n",
    "#     df_clients_temp.loc[df_clients['BIRTH_DATE'].isna(), 'BIRTH_DATE']\n",
    "#     .astype(str)\n",
    "#     .apply(format_date)\n",
    "# )\n",
    "\n",
    "# df_clients['BIRTH_DATE'] = pd.to_datetime(df_clients['BIRTH_DATE'], errors='coerce')"
   ]
  },
  {
   "cell_type": "markdown",
   "metadata": {},
   "source": [
    "Task 2.3"
   ]
  },
  {
   "cell_type": "code",
   "execution_count": 21,
   "metadata": {},
   "outputs": [
    {
     "data": {
      "text/plain": [
       "array(['Mobile Device', 'Mob.dev.', 'mobile', 'TV', 'Telev', 'television',\n",
       "       'Browser', 'Brow.', 'browser'], dtype=object)"
      ]
     },
     "execution_count": 21,
     "metadata": {},
     "output_type": "execute_result"
    }
   ],
   "source": [
    "df_sub['DEVICE'].unique()"
   ]
  },
  {
   "cell_type": "code",
   "execution_count": 25,
   "metadata": {},
   "outputs": [
    {
     "name": "stdout",
     "output_type": "stream",
     "text": [
      "0        Mobile Device\n",
      "1        Mobile Device\n",
      "2        Mobile Device\n",
      "3        Mobile Device\n",
      "4        Mobile Device\n",
      "             ...      \n",
      "40528    Mobile Device\n",
      "40529               TV\n",
      "40530          Browser\n",
      "40531          Browser\n",
      "40532    Mobile Device\n",
      "Name: DEVICE, Length: 40533, dtype: object\n"
     ]
    }
   ],
   "source": [
    "types_of_devices = ['Mobile Device', 'TV', 'Browser']\n",
    "device_mapping = {\n",
    "    'Mobile Device': ['Mob.dev.', 'mobile', 'Mobile Device'],\n",
    "    'TV': ['TV', 'Telev', 'television'],\n",
    "    'Browser': ['Browser', 'Brow.', 'browser']\n",
    "}\n",
    "def map_device(device):\n",
    "    for category, variations in device_mapping.items():\n",
    "        # print(category)\n",
    "        # print(variations)\n",
    "        # print()\n",
    "        if device in variations:\n",
    "            return category\n",
    "    return 'Unknown'\n",
    "df_sub['DEVICE']= df_sub['DEVICE'].apply(map_device)\n",
    "print(df_sub['DEVICE'])"
   ]
  },
  {
   "cell_type": "markdown",
   "metadata": {},
   "source": [
    "Task 2.4"
   ]
  },
  {
   "cell_type": "code",
   "execution_count": null,
   "metadata": {},
   "outputs": [],
   "source": [
    "#checking which rows belong to Central Online Customer Contact Agency\n",
    "import us\n",
    "import geonamescache"
   ]
  },
  {
   "cell_type": "code",
   "execution_count": null,
   "metadata": {},
   "outputs": [],
   "source": [
    "#Innitialize the geonames cache\n",
    "gc = geonamescache.GeonamesCache()\n",
    "\n",
    "#get dictionary of us states with their codes\n",
    "us_states = gc.get_us_states()\n",
    "# This gives state data in format {state_code: {'name': state_name, ...}, ...}\n",
    "\n",
    "#Get dictionary of citiess\n",
    "cities_dict = gc.get_cities()"
   ]
  },
  {
   "cell_type": "code",
   "execution_count": null,
   "metadata": {},
   "outputs": [],
   "source": [
    "# Create a mapping from admin1code to state abbreviation\n",
    "admin1_to_state = {}\n",
    "for state_code, state_info in us_states.items():\n",
    "    # The admin1code in cities is stored as 'US.' + state number code\n",
    "    admin1_code = f\"US.{state_info['fips']}\"  # Use square brackets here\n",
    "    admin1_to_state[admin1_code] = state_code"
   ]
  },
  {
   "cell_type": "code",
   "execution_count": null,
   "metadata": {},
   "outputs": [],
   "source": [
    "# Create a dictionary to map US city names to state abbreviations\n",
    "city_to_state = {}"
   ]
  },
  {
   "cell_type": "code",
   "execution_count": null,
   "metadata": {},
   "outputs": [],
   "source": [
    "# Iterate through cities and extract US cities with their state codes\n",
    "for city_id, city_data in cities_dict.items():\n",
    "    #checl if the city is in the US\n",
    "    if city_data[\"countrycode\"] == \"US\":\n",
    "        city_name = city_data[\"name\"]\n",
    "        #The state code is in the admin' field for US cities\n",
    "        state_code = city_data['admin1code']\n",
    "\n",
    "        # Get the state abbreviation\n",
    "        if admin1_code in admin1_to_state:\n",
    "            state_abbr = admin1_to_state[admin1_code]\n",
    "\n",
    "        # Add to our city-to-state mapping\n",
    "        if city_name not in city_to_state:\n",
    "            city_to_state[city_name] = []\n",
    "        if state_abbr not in city_to_state[city_name]:\n",
    "            city_to_state[city_name].append(state_abbr)"
   ]
  },
  {
   "cell_type": "code",
   "execution_count": null,
   "metadata": {},
   "outputs": [],
   "source": [
    "#preview a few mappings\n",
    "for city, states in list(city_to_state.items())[:5]:\n",
    "    print(f\"{city}: {', '.join(states)}\")"
   ]
  },
  {
   "cell_type": "code",
   "execution_count": null,
   "metadata": {},
   "outputs": [],
   "source": [
    "# Function to get state abbreviation for a city\n",
    "def get_state_for_city(city_name):\n",
    "    if city_name in city_to_state:\n",
    "        states = city_to_state[city_name]\n",
    "        return states[0]\n",
    "    return None"
   ]
  },
  {
   "cell_type": "code",
   "execution_count": null,
   "metadata": {},
   "outputs": [],
   "source": [
    "#Initialize new column with ANSI standard state name\n",
    "df_sub[\"STATE_ABBR\"] = None"
   ]
  },
  {
   "cell_type": "code",
   "execution_count": null,
   "metadata": {},
   "outputs": [],
   "source": [
    "# Map city to state for non-available region\n",
    "df_sub.loc[df_sub[\"CITY\"] != 'NaN', \"STATE_ABBR\"] = df_sub[\"CITY\"].apply(get_state_for_city)\n",
    "\n",
    "#Map existing state abbreviations for othr agencies\n",
    "df_sub.loc[df_sub[\"REGION\"] != 'NaN', \"STATE_ABBR\"] = df_sub[\"REGION\"]\n",
    "\n",
    "#Handle\n",
    "df_sub[\"STATE_ABBR\"].fillna(\"Unkown\", inplace=True)\n"
   ]
  },
  {
   "cell_type": "code",
   "execution_count": null,
   "metadata": {},
   "outputs": [],
   "source": [
    "print(df_sub[\"STATE_ABBR\"].iloc[50:60])"
   ]
  }
 ],
 "metadata": {
  "kernelspec": {
   "display_name": "base",
   "language": "python",
   "name": "python3"
  },
  "language_info": {
   "codemirror_mode": {
    "name": "ipython",
    "version": 3
   },
   "file_extension": ".py",
   "mimetype": "text/x-python",
   "name": "python",
   "nbconvert_exporter": "python",
   "pygments_lexer": "ipython3",
   "version": "3.12.4"
  },
  "orig_nbformat": 4
 },
 "nbformat": 4,
 "nbformat_minor": 2
}
